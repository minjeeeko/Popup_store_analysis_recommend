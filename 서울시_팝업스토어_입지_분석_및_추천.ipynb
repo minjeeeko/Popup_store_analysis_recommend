{
  "nbformat": 4,
  "nbformat_minor": 0,
  "metadata": {
    "colab": {
      "provenance": [],
      "authorship_tag": "ABX9TyN1tuo9WgknFwH2GjhK4ovI",
      "include_colab_link": true
    },
    "kernelspec": {
      "name": "python3",
      "display_name": "Python 3"
    },
    "language_info": {
      "name": "python"
    }
  },
  "cells": [
    {
      "cell_type": "markdown",
      "metadata": {
        "id": "view-in-github",
        "colab_type": "text"
      },
      "source": [
        "<a href=\"https://colab.research.google.com/github/minjeeeko/Popup_store_analysis_recommend/blob/main/%EC%84%9C%EC%9A%B8%EC%8B%9C_%ED%8C%9D%EC%97%85%EC%8A%A4%ED%86%A0%EC%96%B4_%EC%9E%85%EC%A7%80_%EB%B6%84%EC%84%9D_%EB%B0%8F_%EC%B6%94%EC%B2%9C.ipynb\" target=\"_parent\"><img src=\"https://colab.research.google.com/assets/colab-badge.svg\" alt=\"Open In Colab\"/></a>"
      ]
    },
    {
      "cell_type": "code",
      "execution_count": null,
      "metadata": {
        "id": "-y4xDs73eMTJ"
      },
      "outputs": [],
      "source": [
        "!sudo apt-get install -y fonts-nanum\n",
        "!sudo fc-cache -fv\n",
        "!rm ~/.cache/matplotlib -rf\n",
        "\n",
        "! pip install pycaret\n",
        "! pip install scikeras\n",
        "! pip install eli5"
      ]
    },
    {
      "cell_type": "code",
      "source": [
        "from google.colab import drive\n",
        "drive.mount('/content/gdrive')"
      ],
      "metadata": {
        "id": "YezceVehfgAp"
      },
      "execution_count": null,
      "outputs": []
    },
    {
      "cell_type": "code",
      "source": [
        "import pandas as pd\n",
        "import os\n",
        "import datetime as dt\n",
        "from functools import reduce\n",
        "import numpy as np\n",
        "import requests\n",
        "import json\n",
        "from tqdm import tqdm\n",
        "from pycaret.clustering import *\n",
        "import seaborn as sns\n",
        "import matplotlib.pyplot as plt\n",
        "from sklearn.preprocessing import StandardScaler, MinMaxScaler\n",
        "plt.rc('font', family='NanumBarunGothic')\n",
        "from sklearn.ensemble import RandomForestRegressor\n",
        "from sklearn.preprocessing import OneHotEncoder\n",
        "from sklearn.compose import ColumnTransformer\n",
        "from sklearn.pipeline import Pipeline\n",
        "from tensorflow.keras.models import Sequential\n",
        "from tensorflow.keras.layers import Dense, InputLayer\n",
        "from xgboost import XGBRegressor\n",
        "from sklearn.preprocessing import StandardScaler, MinMaxScaler\n",
        "from tensorflow.keras.callbacks import EarlyStopping\n",
        "from tensorflow.keras.layers import Dense, Dropout\n",
        "from tensorflow.keras.optimizers import Adam\n",
        "from sklearn.model_selection import GridSearchCV\n",
        "from sklearn.model_selection import RandomizedSearchCV, train_test_split, StratifiedKFold\n",
        "from scikeras.wrappers import KerasRegressor\n",
        "import eli5\n",
        "from eli5.sklearn import PermutationImportance\n",
        "from eli5.formatters.as_dataframe import explain_weights_df\n",
        "from sklearn.model_selection import RandomizedSearchCV"
      ],
      "metadata": {
        "id": "TV0JG2dvewUq"
      },
      "execution_count": null,
      "outputs": []
    },
    {
      "cell_type": "markdown",
      "source": [
        "## 상권분석서비스 (점포)"
      ],
      "metadata": {
        "id": "kXXxqYe1f1sp"
      }
    },
    {
      "cell_type": "code",
      "source": [
        "path = '/content/drive/MyDrive/홍철있는 홍철팀/Data/sanggwun/'\n",
        "flist = os.listdir(path)\n",
        "print(flist)"
      ],
      "metadata": {
        "id": "rIiwRgD_f10L"
      },
      "execution_count": null,
      "outputs": []
    },
    {
      "cell_type": "code",
      "source": [
        "jumpo = pd.read_csv(path + '/' + flist[1], index_col = 'Unnamed: 0')\n",
        "jumpo.head(5)"
      ],
      "metadata": {
        "id": "Rk-dG-3of12c"
      },
      "execution_count": null,
      "outputs": []
    },
    {
      "cell_type": "code",
      "source": [
        "dong_code = jumpo[['행정동_코드', '행정동_코드_명']].drop_duplicates().reset_index(drop = True)\n",
        "\n",
        "dong_code.loc[dong_code['행정동_코드_명']=='면목3?8동','행정동_코드_명'] = '면목3·8동'\n",
        "dong_code.loc[dong_code['행정동_코드_명']=='상계3?4동','행정동_코드_명'] = '상계3·4동'\n",
        "dong_code.loc[dong_code['행정동_코드_명']=='종로5?6가동','행정동_코드_명'] = '종로5·6가동'\n",
        "dong_code.loc[dong_code['행정동_코드_명']=='상계6?7동','행정동_코드_명'] = '상계6·7동'\n",
        "dong_code.loc[dong_code['행정동_코드_명']=='종로1?2?3?4가동','행정동_코드_명'] = '종로1·2·3·4가동'\n",
        "dong_code.loc[dong_code['행정동_코드_명']=='금호2?3가동','행정동_코드_명'] = '금호2·3가동'\n",
        "dong_code.loc[dong_code['행정동_코드_명']=='항동','행정동_코드_명'] = '오류2동'\n",
        "dong_code.loc[dong_code['행정동_코드_명']=='중계2?3동','행정동_코드_명'] = '중계2·3동'"
      ],
      "metadata": {
        "id": "-Xkmu0oTf19U"
      },
      "execution_count": null,
      "outputs": []
    },
    {
      "cell_type": "code",
      "source": [
        "jumpo_20221 = jumpo[jumpo['기준_년분기_코드'] == 20221]\n",
        "jumpo_20222 = jumpo[jumpo['기준_년분기_코드'] == 20222]\n",
        "jumpo_20223 = jumpo[jumpo['기준_년분기_코드'] == 20223]\n",
        "jumpo_20224 = jumpo[jumpo['기준_년분기_코드'] == 20224]\n",
        "jumpo_20231 = jumpo[jumpo['기준_년분기_코드'] == 20231]\n",
        "jumpo_20232 = jumpo[jumpo['기준_년분기_코드'] == 20232]\n",
        "jumpo_20233 = jumpo[jumpo['기준_년분기_코드'] == 20233]"
      ],
      "metadata": {
        "id": "_ZCvsevUf_n8"
      },
      "execution_count": null,
      "outputs": []
    },
    {
      "cell_type": "code",
      "source": [
        "def process_jumpo(jumpo_df):\n",
        "    cols = ['행정동_코드', '서비스_업종_코드_명', '점포_수', '개업_점포_수', '폐업_점포_수', '프랜차이즈_점포_수']\n",
        "    jumpo_df = jumpo_df[cols]\n",
        "\n",
        "    jumpo_df['행정동_코드'] = jumpo_df['행정동_코드'].astype(str)\n",
        "    jumpo_df['행정동_서비스'] = jumpo_df['행정동_코드'] + '_' + jumpo_df['서비스_업종_코드_명']\n",
        "\n",
        "    jumpo_df = jumpo_df.drop(['행정동_코드', '서비스_업종_코드_명'], axis = 1)\n",
        "\n",
        "    return jumpo_df"
      ],
      "metadata": {
        "id": "FLAXgnDvf_qK"
      },
      "execution_count": null,
      "outputs": []
    },
    {
      "cell_type": "code",
      "source": [
        "quarters = ['20221', '20222', '20223', '20224', '20231', '20232', '20233']\n",
        "modified_jumpo_dfs = {}\n",
        "\n",
        "for quarter in quarters:\n",
        "    jumpo_df = globals()[f'jumpo_{quarter}']\n",
        "    modified_jumpo_df = process_jumpo(jumpo_df)\n",
        "    modified_jumpo_dfs[quarter] = modified_jumpo_df\n",
        "\n",
        "jumpo_20221 = modified_jumpo_dfs['20221']\n",
        "jumpo_20222 = modified_jumpo_dfs['20222']\n",
        "jumpo_20223 = modified_jumpo_dfs['20223']\n",
        "jumpo_20224 = modified_jumpo_dfs['20224']\n",
        "jumpo_20231 = modified_jumpo_dfs['20231']\n",
        "jumpo_20232 = modified_jumpo_dfs['20232']\n",
        "jumpo_20233 = modified_jumpo_dfs['20233']"
      ],
      "metadata": {
        "id": "RsvTgbH9f_sd"
      },
      "execution_count": null,
      "outputs": []
    },
    {
      "cell_type": "code",
      "source": [
        "jumpo_20221.columns = ['221_점포수', '221_개업점포수', '221_폐업점포수', '221_프랜차이즈점포수', '행정동_서비스']\n",
        "jumpo_20222.columns = ['222_점포수', '222_개업점포수', '222_폐업점포수', '222_프랜차이즈점포수', '행정동_서비스']\n",
        "jumpo_20223.columns = ['223_점포수', '223_개업점포수', '223_폐업점포수', '223_프랜차이즈점포수', '행정동_서비스']\n",
        "jumpo_20224.columns = ['224_점포수', '224_개업점포수', '224_폐업점포수', '224_프랜차이즈점포수', '행정동_서비스']\n",
        "jumpo_20231.columns = ['231_점포수', '231_개업점포수', '231_폐업점포수', '231_프랜차이즈점포수', '행정동_서비스']\n",
        "jumpo_20232.columns = ['232_점포수', '232_개업점포수', '232_폐업점포수', '232_프랜차이즈점포수', '행정동_서비스']\n",
        "jumpo_20233.columns = ['233_점포수', '233_개업점포수', '233_폐업점포수', '233_프랜차이즈점포수', '행정동_서비스']"
      ],
      "metadata": {
        "id": "LDLL1wdof_uv"
      },
      "execution_count": null,
      "outputs": []
    },
    {
      "cell_type": "code",
      "source": [
        "lst = [jumpo_20221, jumpo_20222, jumpo_20223, jumpo_20224, jumpo_20231, jumpo_20232, jumpo_20233]\n",
        "all_jumpo = reduce(lambda left, right: pd.merge(left, right, on='행정동_서비스', how='outer'), lst)\n",
        "dong_service = all_jumpo.pop('행정동_서비스')\n",
        "all_jumpo.insert(0, '행정동_서비스', dong_service)\n",
        "all_jumpo.drop_duplicates(inplace = True)\n",
        "all_jumpo = all_jumpo.fillna(0)"
      ],
      "metadata": {
        "id": "5r4AboELf_xF"
      },
      "execution_count": null,
      "outputs": []
    },
    {
      "cell_type": "code",
      "source": [
        "# 증감률로 2023-4분기 계산"
      ],
      "metadata": {
        "id": "HsYqvTL1f_y9"
      },
      "execution_count": null,
      "outputs": []
    },
    {
      "cell_type": "code",
      "source": [
        "all_jumpo['2022_34분기_점포수_증감률'] = ((all_jumpo['224_점포수'] - all_jumpo['223_점포수']) / all_jumpo['223_점포수'] * 100).fillna(0)\n",
        "all_jumpo['2022_34분기_점포수_증감률'] = all_jumpo['2022_34분기_점포수_증감률'].replace([np.inf, -np.inf], 0)\n",
        "\n",
        "all_jumpo['2022_34분기_개업점포수_증감률'] = ((all_jumpo['224_개업점포수'] - all_jumpo['223_개업점포수']) / all_jumpo['223_개업점포수'] * 100).fillna(0)\n",
        "all_jumpo['2022_34분기_개업점포수_증감률'] = all_jumpo['2022_34분기_개업점포수_증감률'].replace([np.inf, -np.inf], 0)\n",
        "\n",
        "all_jumpo['2022_34분기_폐업점포수_증감률'] = ((all_jumpo['224_폐업점포수'] - all_jumpo['223_폐업점포수']) / all_jumpo['223_폐업점포수'] * 100).fillna(0)\n",
        "all_jumpo['2022_34분기_폐업점포수_증감률'] = all_jumpo['2022_34분기_폐업점포수_증감률'].replace([np.inf, -np.inf], 0)\n",
        "\n",
        "all_jumpo['2022_34분기_프랜차이즈점포수_증감률'] = ((all_jumpo['224_프랜차이즈점포수'] - all_jumpo['223_프랜차이즈점포수']) / all_jumpo['223_프랜차이즈점포수'] * 100).fillna(0)\n",
        "all_jumpo['2022_34분기_프랜차이즈점포수_증감률'] = all_jumpo['2022_34분기_프랜차이즈점포수_증감률'].replace([np.inf, -np.inf], 0)"
      ],
      "metadata": {
        "id": "ooNt_ZQWf_0v"
      },
      "execution_count": null,
      "outputs": []
    },
    {
      "cell_type": "code",
      "source": [
        "jumpo_34_change = all_jumpo[['행정동_서비스', '233_점포수', '2022_34분기_점포수_증감률',\n",
        "                             '233_개업점포수', '2022_34분기_개업점포수_증감률',\n",
        "                             '233_폐업점포수', '2022_34분기_폐업점포수_증감률',\n",
        "                             '233_프랜차이즈점포수', '2022_34분기_프랜차이즈점포수_증감률']]\n",
        "jumpo_34_change"
      ],
      "metadata": {
        "id": "fnMiJyaKf_2p"
      },
      "execution_count": null,
      "outputs": []
    },
    {
      "cell_type": "code",
      "source": [
        "jumpo_34_change['234_점포수'] = jumpo_34_change['233_점포수'] + (jumpo_34_change['233_점포수'] *  jumpo_34_change['2022_34분기_점포수_증감률'] / 100)\n",
        "jumpo_34_change['234_개업점포수'] = jumpo_34_change['233_개업점포수'] + (jumpo_34_change['233_개업점포수'] *  jumpo_34_change['2022_34분기_개업점포수_증감률'] / 100)\n",
        "jumpo_34_change['234_폐업점포수'] = jumpo_34_change['233_폐업점포수'] + (jumpo_34_change['233_폐업점포수'] *  jumpo_34_change['2022_34분기_폐업점포수_증감률'] / 100)\n",
        "jumpo_34_change['234_프랜차이즈점포수'] = jumpo_34_change['233_프랜차이즈점포수'] + (jumpo_34_change['233_프랜차이즈점포수'] *  jumpo_34_change['2022_34분기_프랜차이즈점포수_증감률'] / 100)\n",
        "\n",
        "jumpo234 = jumpo_34_change[['행정동_서비스', '234_점포수', '234_개업점포수', '234_폐업점포수', '234_프랜차이즈점포수']]\n",
        "jumpo234 = jumpo234.reset_index(drop = True)"
      ],
      "metadata": {
        "id": "ZNcubwxXgIq8"
      },
      "execution_count": null,
      "outputs": []
    },
    {
      "cell_type": "code",
      "source": [
        "before = all_jumpo[['행정동_서비스', '221_점포수', '221_개업점포수', '221_폐업점포수', '221_프랜차이즈점포수',\n",
        "                                  '222_점포수', '222_개업점포수', '222_폐업점포수', '222_프랜차이즈점포수',\n",
        "                                  '223_점포수', '223_개업점포수', '223_폐업점포수', '223_프랜차이즈점포수',\n",
        "                                  '224_점포수', '224_개업점포수', '224_폐업점포수', '224_프랜차이즈점포수',\n",
        "                                  '231_점포수', '231_개업점포수', '231_폐업점포수', '231_프랜차이즈점포수',\n",
        "                                  '232_점포수', '232_개업점포수', '232_폐업점포수', '232_프랜차이즈점포수',\n",
        "                                  '233_점포수', '233_개업점포수', '233_폐업점포수', '233_프랜차이즈점포수']]\n",
        "\n",
        "final_jumpo = pd.merge(before, jumpo234, on = '행정동_서비스', how = 'inner')"
      ],
      "metadata": {
        "id": "wE1-Xby0gItP"
      },
      "execution_count": null,
      "outputs": []
    },
    {
      "cell_type": "code",
      "source": [
        "final_jumpo['행정동_코드'] = final_jumpo['행정동_서비스'].str.split('_').str[0]\n",
        "final_jumpo['서비스명'] = final_jumpo['행정동_서비스'].str.split('_').str[1]\n",
        "final_jumpo = final_jumpo.drop('행정동_서비스', axis = 1)\n",
        "final_jumpo['행정동_코드'] = final_jumpo['행정동_코드'].astype(int)"
      ],
      "metadata": {
        "id": "ABNHU2WDgIu-"
      },
      "execution_count": null,
      "outputs": []
    },
    {
      "cell_type": "code",
      "source": [
        "final_jumpo = pd.merge(final_jumpo, dong_code, how = 'left', on = '행정동_코드')\n",
        "final_jumpo = final_jumpo[['행정동_코드', '행정동_코드_명', '서비스명',\n",
        "                           '221_점포수', '221_개업점포수', '221_폐업점포수', '221_프랜차이즈점포수',\n",
        "                           '222_점포수', '222_개업점포수', '222_폐업점포수', '222_프랜차이즈점포수',\n",
        "                           '223_점포수', '223_개업점포수', '223_폐업점포수', '223_프랜차이즈점포수',\n",
        "                           '224_점포수', '224_개업점포수', '224_폐업점포수', '224_프랜차이즈점포수',\n",
        "                           '231_점포수', '231_개업점포수', '231_폐업점포수', '231_프랜차이즈점포수',\n",
        "                           '232_점포수', '232_개업점포수', '232_폐업점포수', '232_프랜차이즈점포수',\n",
        "                           '233_점포수', '233_개업점포수', '233_폐업점포수', '233_프랜차이즈점포수',\n",
        "                           '234_점포수', '234_개업점포수', '234_폐업점포수', '234_프랜차이즈점포수']]"
      ],
      "metadata": {
        "id": "bV3P5qQNgIw6"
      },
      "execution_count": null,
      "outputs": []
    },
    {
      "cell_type": "code",
      "source": [
        "final_jumpo.to_csv(path + '상권서비스_점포_최종_0111.csv', index = False)"
      ],
      "metadata": {
        "id": "USunh7K3gSHV"
      },
      "execution_count": null,
      "outputs": []
    },
    {
      "cell_type": "code",
      "source": [
        "path = '/content/drive/MyDrive/홍철있는 홍철팀/Data/데이터최종본/'\n",
        "점포데이터 = '상권서비스_점포_진짜최종(240116).csv'\n",
        "점포 = pd.read_csv(path + 점포데이터, index_col = 0)"
      ],
      "metadata": {
        "id": "bG4qoNlBg9_L"
      },
      "execution_count": null,
      "outputs": []
    },
    {
      "cell_type": "code",
      "source": [
        "점포_221 = 점포[['행정동코드', '행정동', '대분류', '221_점포수', '221_개업점포수', '221_폐업점포수','221_프랜차이즈점포수']]\n",
        "점포_222 = 점포[['행정동코드', '행정동', '대분류', '222_점포수', '222_개업점포수', '222_폐업점포수','222_프랜차이즈점포수']]\n",
        "점포_223 = 점포[['행정동코드', '행정동', '대분류', '223_점포수', '223_개업점포수', '223_폐업점포수','223_프랜차이즈점포수']]\n",
        "점포_224 = 점포[['행정동코드', '행정동', '대분류', '224_점포수', '224_개업점포수', '224_폐업점포수','224_프랜차이즈점포수']]\n",
        "점포_231 = 점포[['행정동코드', '행정동', '대분류', '231_점포수', '231_개업점포수', '231_폐업점포수','231_프랜차이즈점포수']]\n",
        "점포_232 = 점포[['행정동코드', '행정동', '대분류', '232_점포수', '232_개업점포수', '232_폐업점포수','232_프랜차이즈점포수']]\n",
        "점포_233 = 점포[['행정동코드', '행정동', '대분류', '233_점포수', '233_개업점포수', '233_폐업점포수','233_프랜차이즈점포수']]\n",
        "점포_234 = 점포[['행정동코드', '행정동', '대분류', '234_점포수', '234_개업점포수', '234_폐업점포수','234_프랜차이즈점포수']]"
      ],
      "metadata": {
        "id": "SFYV7E1Gg-BG"
      },
      "execution_count": null,
      "outputs": []
    },
    {
      "cell_type": "code",
      "source": [
        "def process_data(df, quarter):\n",
        "    df['분기'] = [quarter] * len(df)\n",
        "    df.columns = ['행정동코드', '행정동', '대분류', '점포수', '개업점포수', '폐업점포수', '프랜차이즈점포수', '분기']\n",
        "    return df\n",
        "\n",
        "quarters = ['2022Q1', '2022Q2', '2022Q3', '2022Q4', '2023Q1', '2023Q2', '2023Q3', '2023Q4']\n",
        "dataframes = [점포_221, 점포_222, 점포_223, 점포_224, 점포_231, 점포_232, 점포_233, 점포_234]\n",
        "\n",
        "for i, quarter in enumerate(quarters):\n",
        "    dataframes[i] = process_data(dataframes[i], quarter)\n",
        "\n",
        "점포_221, 점포_222, 점포_223, 점포_224, 점포_231, 점포_232, 점포_233, 점포_234 = dataframes"
      ],
      "metadata": {
        "id": "Ay616etag-DY"
      },
      "execution_count": null,
      "outputs": []
    },
    {
      "cell_type": "code",
      "source": [
        "점포_221 = 점포_221.groupby(['행정동코드', '행정동', '대분류']).sum().reset_index()\n",
        "점포_221['분기'] = ['2022Q1'] * len(점포_221)\n",
        "\n",
        "점포_222 = 점포_222.groupby(['행정동코드', '행정동', '대분류']).sum().reset_index()\n",
        "점포_222['분기'] = ['2022Q2'] * len(점포_222)\n",
        "\n",
        "점포_223 = 점포_223.groupby(['행정동코드', '행정동', '대분류']).sum().reset_index()\n",
        "점포_223['분기'] = ['2022Q3'] * len(점포_223)\n",
        "\n",
        "점포_224 = 점포_224.groupby(['행정동코드', '행정동', '대분류']).sum().reset_index()\n",
        "점포_224['분기'] = ['2022Q4'] * len(점포_224)"
      ],
      "metadata": {
        "id": "IjSqSo9og-Fe"
      },
      "execution_count": null,
      "outputs": []
    },
    {
      "cell_type": "code",
      "source": [
        "점포_231 = 점포_221.groupby(['행정동코드', '행정동', '대분류']).sum().reset_index()\n",
        "점포_231['분기'] = ['2023Q1'] * len(점포_231)\n",
        "\n",
        "점포_232 = 점포_232.groupby(['행정동코드', '행정동', '대분류']).sum().reset_index()\n",
        "점포_232['분기'] = ['2023Q2'] * len(점포_232)\n",
        "\n",
        "점포_233 = 점포_233.groupby(['행정동코드', '행정동', '대분류']).sum().reset_index()\n",
        "점포_233['분기'] = ['2023Q3'] * len(점포_233)\n",
        "\n",
        "점포_234 = 점포_234.groupby(['행정동코드', '행정동', '대분류']).sum().reset_index()\n",
        "점포_234['분기'] = ['2023Q4'] * len(점포_234)"
      ],
      "metadata": {
        "id": "TA8pkcZhg-Hh"
      },
      "execution_count": null,
      "outputs": []
    },
    {
      "cell_type": "code",
      "source": [
        "data = pd.concat([점포_221, 점포_222, 점포_223, 점포_224, 점포_231, 점포_232, 점포_233, 점포_234], axis = 0)"
      ],
      "metadata": {
        "id": "S91jk86DhEBI"
      },
      "execution_count": null,
      "outputs": []
    },
    {
      "cell_type": "code",
      "source": [
        "data = pd.read_csv(path + '점포_0116.csv')\n",
        "data = data.pivot_table(index = ['행정동코드', '행정동', '분기'], columns = ['대분류'], values = ['점포수', '개업점포수', '폐업점포수', '프랜차이즈점포수'], fill_value = 0).reset_index()"
      ],
      "metadata": {
        "id": "Rzg3VY1qhEDY"
      },
      "execution_count": null,
      "outputs": []
    },
    {
      "cell_type": "code",
      "source": [
        "data.columns = ['행정동코드', '행정동', '분기'] + [f\"{col[1]}_{col[0]}\" if col[0] != '' else col[1] for col in data.columns][3:]\n",
        "data.to_csv(path + '점포데이터_최종(01161252).csv', index = False)"
      ],
      "metadata": {
        "id": "Bf8y3QLQhEFl"
      },
      "execution_count": null,
      "outputs": []
    },
    {
      "cell_type": "markdown",
      "source": [
        "## 매출데이터"
      ],
      "metadata": {
        "id": "p68hMCUshQVV"
      }
    },
    {
      "cell_type": "code",
      "source": [
        "매출데이터 = '상권분석_매출_최종(230116).csv'\n",
        "매출 = pd.read_csv(path + 매출데이터)"
      ],
      "metadata": {
        "id": "IrrFOg-AhQZ4"
      },
      "execution_count": null,
      "outputs": []
    },
    {
      "cell_type": "code",
      "source": [
        "cols = ['당월_매출_금액', '주중_매출_금액', '주말_매출_금액',\n",
        "       '남성_매출_금액', '여성_매출_금액', '연령대_10_매출_금액', '연령대_20_매출_금액', '연령대_30_매출_금액',\n",
        "       '연령대_40_매출_금액', '연령대_50_매출_금액', '연령대_60_이상_매출_금액']\n",
        "매출 = 매출.pivot_table(index = ['행정동코드', '행정동'], columns = ['분기', '서비스_업종_코드_명'], values = cols, fill_value = 0).reset_index()"
      ],
      "metadata": {
        "id": "Q3IsHSFIhQcM"
      },
      "execution_count": null,
      "outputs": []
    },
    {
      "cell_type": "code",
      "source": [
        "매출.columns = ['행정동코드', '행정동'] + [f\"{col[2]}_{col[1]}_{col[0]}\" if col[1] != '' else col[2] for col in 매출.columns][2:]\n",
        "매출.to_csv(path + '매출_전처리_완성.csv', index = False)"
      ],
      "metadata": {
        "id": "3URlqWTahQeG"
      },
      "execution_count": null,
      "outputs": []
    },
    {
      "cell_type": "markdown",
      "source": [
        "## 날씨 데이터 전처리 (평균 기온, 최대 강수량)"
      ],
      "metadata": {
        "id": "XKKRdcDDexCj"
      }
    },
    {
      "cell_type": "code",
      "source": [
        "path = r'/content/drive/MyDrive/홍철있는 홍철팀/Data/weather'\n",
        "flist = os.listdir(path)\n",
        "print(flist)"
      ],
      "metadata": {
        "id": "0AN76meXewWv"
      },
      "execution_count": null,
      "outputs": []
    },
    {
      "cell_type": "code",
      "source": [
        "station = pd.read_csv(path + '/' + flist[1], encoding = 'cp949')\n",
        "station = station[['지점', '시작일', '종료일', '지점명', '위도', '경도']]\n",
        "station = station.sort_values(by='시작일', ascending=False).drop_duplicates(subset='지점')\n",
        "station.drop(['시작일', '종료일'], axis = 1, inplace = True)"
      ],
      "metadata": {
        "id": "77v-f_gCewY2"
      },
      "execution_count": null,
      "outputs": []
    },
    {
      "cell_type": "code",
      "source": [
        "def read_and_merge(file_path, station):\n",
        "    weather_df = pd.read_csv(file_path, encoding='cp949')\n",
        "    merged_df = pd.merge(weather_df, station, how='left', on='지점')\n",
        "    return merged_df\n",
        "\n",
        "merged_weather = pd.DataFrame()\n",
        "\n",
        "for f in flist[2:]:\n",
        "    file_path = path + '/' + f\n",
        "    merged_weather = pd.concat([merged_weather, read_and_merge(file_path, station)], axis=0)\n",
        "\n",
        "merged_weather.drop('지점명_y', axis = 1, inplace = True)\n",
        "merged_weather.columns = ['지점', '지점명', '일시', '기온', '강수량', '위도', '경도']\n",
        "merged_weather"
      ],
      "metadata": {
        "id": "Age0nW-Wewa0"
      },
      "execution_count": null,
      "outputs": []
    },
    {
      "cell_type": "code",
      "source": [
        "merged_weather['일시'] = pd.to_datetime(merged_weather['일시'])\n",
        "merged_weather['달'] = merged_weather['일시'].dt.month\n",
        "\n",
        "merged_weather['분기'] = merged_weather['달'].apply(lambda x: 1 if x in [1, 2, 3]\n",
        "                                            else (2 if x in [4, 5, 6]\n",
        "                                            else (3 if x in [7, 8, 9]\n",
        "                                            else 4)))\n",
        "merged_weather.drop(['일시', '달'], axis = 1, inplace = True)\n",
        "\n",
        "first = merged_weather[merged_weather['분기'] == 1]\n",
        "second = merged_weather[merged_weather['분기'] == 2]\n",
        "third = merged_weather[merged_weather['분기'] == 3]\n",
        "fourth = merged_weather[merged_weather['분기'] == 4]"
      ],
      "metadata": {
        "id": "YMRQAYOlfDUC"
      },
      "execution_count": null,
      "outputs": []
    },
    {
      "cell_type": "code",
      "source": [
        "Qs = ['first', 'second', 'third', 'fourth']\n",
        "mean_dfs = []\n",
        "\n",
        "for Q in Qs:\n",
        "    df = pd.DataFrame(eval(f'{Q}.groupby([\"지점\", \"분기\"])[\"기온\"].mean()'))\n",
        "    df.columns = ['평균기온']\n",
        "    mean_dfs.append(df)\n",
        "\n",
        "first_mean, second_mean, third_mean, fourth_mean = mean_dfs\n",
        "\n",
        "max_dfs = []\n",
        "\n",
        "for Q in Qs:\n",
        "    df = pd.DataFrame(eval(f'{Q}.groupby([\"지점\", \"분기\"])[\"강수량\"].max()'))\n",
        "    df.columns = ['최고강수량']\n",
        "    max_dfs.append(df)\n",
        "\n",
        "first_max, second_max, third_max, fourth_max = max_dfs"
      ],
      "metadata": {
        "id": "GM7k6UyefDWV"
      },
      "execution_count": null,
      "outputs": []
    },
    {
      "cell_type": "code",
      "source": [
        "first_weather = pd.concat([first_mean, first_max], axis = 1)\n",
        "first_weather = pd.merge(first_weather, station, how = 'left', on = '지점')\n",
        "\n",
        "second_weather = pd.concat([second_mean, second_max], axis = 1)\n",
        "second_weather = pd.merge(second_weather, station, how = 'left', on = '지점')\n",
        "\n",
        "third_weather = pd.concat([third_mean, third_max], axis = 1)\n",
        "third_weather = pd.merge(third_weather, station, how = 'left', on = '지점')\n",
        "\n",
        "fourth_weather = pd.concat([fourth_mean, fourth_max], axis = 1)\n",
        "fourth_weather = pd.merge(fourth_weather, station, how = 'left', on = '지점')"
      ],
      "metadata": {
        "id": "56MmAbe5fDYk"
      },
      "execution_count": null,
      "outputs": []
    },
    {
      "cell_type": "code",
      "source": [
        "first_weather.to_csv(path + '/1분기_날씨.csv')\n",
        "second_weather.to_csv(path + '/2분기_날씨.csv')\n",
        "third_weather.to_csv(path + '/3분기_날씨.csv')\n",
        "fourth_weather.to_csv(path + '/4분기_날씨.csv')"
      ],
      "metadata": {
        "id": "5PcFr1_EfDa3"
      },
      "execution_count": null,
      "outputs": []
    },
    {
      "cell_type": "markdown",
      "source": [
        "## 팝업스토어 주소 -> 좌표(위경도) 변환"
      ],
      "metadata": {
        "id": "TUdob777gclZ"
      }
    },
    {
      "cell_type": "code",
      "source": [
        "path = './팝업스토어_리스트(전체) .csv'\n",
        "popup = pd.read_csv(path)\n",
        "popup = popup[['이름', '주소']]\n",
        "\n",
        "apiurl = \"http://api.vworld.kr/req/address?\"\n",
        "api_key = \"B498C9F9-5196-3554-AEB4-930CECF47CFE\" # 본인 인증키로 변경\n",
        "\n",
        "addresses = list(popup['주소'])\n",
        "\n",
        "df = pd.DataFrame(columns=['주소', '위도', '경도'])\n",
        "error_addresses = []"
      ],
      "metadata": {
        "id": "IId07rc1gcqd"
      },
      "execution_count": null,
      "outputs": []
    },
    {
      "cell_type": "code",
      "source": [
        "for address in tqdm(addresses):\n",
        "    params = {\n",
        "        \"service\": \"address\",\n",
        "        \"request\": \"getcoord\",\n",
        "        \"crs\": \"epsg:4326\",\n",
        "        \"address\": address,\n",
        "        \"format\": \"json\",\n",
        "        \"type\": \"road\",\n",
        "        \"key\": api_key\n",
        "    }\n",
        "\n",
        "    try:\n",
        "        response = requests.get(apiurl, params=params)\n",
        "        response.raise_for_status()  # Check if the request was successful\n",
        "\n",
        "        json_data = response.json()\n",
        "        경도 = json_data['response']['result']['point']['x']\n",
        "        위도 = json_data['response']['result']['point']['y']\n",
        "\n",
        "        df = df.append({'주소': address, '위도': 위도, '경도': 경도}, ignore_index=True)\n",
        "    except requests.exceptions.HTTPError as errh:\n",
        "        print(f\"HTTP Error: {errh} for address: {address}\")\n",
        "        error_addresses.append({'주소': address, '에러': f\"HTTP Error: {errh}\"})\n",
        "    except requests.exceptions.RequestException as err:\n",
        "        print(f\"Request Exception: {err} for address: {address}\")\n",
        "        error_addresses.append({'주소': address, '에러': f\"Request Exception: {err}\"})\n",
        "    except Exception as e:\n",
        "        print(f\"An unexpected error occurred for address: {address}, Error: {e}\")\n",
        "        error_addresses.append({'주소': address, '에러': f\"Unexpected Error: {e}\"})\n",
        "\n",
        "error_df = pd.DataFrame(error_addresses)"
      ],
      "metadata": {
        "id": "6G_hj_LWgcsw"
      },
      "execution_count": null,
      "outputs": []
    },
    {
      "cell_type": "code",
      "source": [
        "df.to_csv('/content/drive/MyDrive/홍철있는 홍철팀/Data/popup_위경도.csv', index_col = False)"
      ],
      "metadata": {
        "id": "246gW0WCgkwV"
      },
      "execution_count": null,
      "outputs": []
    },
    {
      "cell_type": "markdown",
      "source": [
        "## 기준 행정동 구하기"
      ],
      "metadata": {
        "id": "Ays92AKCfaCv"
      }
    },
    {
      "cell_type": "code",
      "source": [
        "path = r'/content/gdrive/MyDrive/홍철있는 홍철팀/Data/행정동'\n",
        "flist = os.listdir(path)\n",
        "print(flist)"
      ],
      "metadata": {
        "id": "NlBm33lLfDc3"
      },
      "execution_count": null,
      "outputs": []
    },
    {
      "cell_type": "code",
      "source": [
        "추정매출 = pd.read_csv(path + '/' + flist[0], index_col = 'Unnamed: 0')\n",
        "공시지가 = pd.read_csv(path + '/' + flist[1])\n",
        "행정동코드 = pd.read_csv(path + '/' + flist[2])\n",
        "날씨 = pd.read_csv(path + '/' + flist[3])\n",
        "팝업스토어 = pd.read_csv(path + '/' + flist[4])\n",
        "대중교통 = pd.read_csv(path + '/' + flist[5])"
      ],
      "metadata": {
        "id": "kuENMgmafDeu"
      },
      "execution_count": null,
      "outputs": []
    },
    {
      "cell_type": "code",
      "source": [
        "set(행정동코드['0']) - set(추정매출['0'])"
      ],
      "metadata": {
        "id": "deSArhxifm6c"
      },
      "execution_count": null,
      "outputs": []
    },
    {
      "cell_type": "code",
      "source": [
        "set(행정동코드['0']) - set(날씨['ADM_NM'])"
      ],
      "metadata": {
        "id": "DItv4naOfm-a"
      },
      "execution_count": null,
      "outputs": []
    },
    {
      "cell_type": "code",
      "source": [
        "len(set(행정동코드['0']) - set(팝업스토어['행정동']))"
      ],
      "metadata": {
        "id": "ltuUz6UcfnAJ"
      },
      "execution_count": null,
      "outputs": []
    },
    {
      "cell_type": "code",
      "source": [
        "set(행정동코드['0']) - set(대중교통 ['행정동명'])"
      ],
      "metadata": {
        "id": "oPIaGKiNfusX"
      },
      "execution_count": null,
      "outputs": []
    },
    {
      "cell_type": "markdown",
      "source": [
        "## 최종데이터 입지분석(클러스터링 수행)"
      ],
      "metadata": {
        "id": "3FvvGrAwhe6Y"
      }
    },
    {
      "cell_type": "code",
      "source": [
        "d2022 = pd.read_csv('/content/drive/MyDrive/홍철있는 홍철팀/데이터 분석/클러스터링/fin_2022_df.csv')\n",
        "d2023 = pd.read_csv('/content/drive/MyDrive/홍철있는 홍철팀/데이터 분석/클러스터링/fin_2023_df.csv')"
      ],
      "metadata": {
        "id": "JLIdPmxrhfhf"
      },
      "execution_count": null,
      "outputs": []
    },
    {
      "cell_type": "code",
      "source": [
        "columns_to_drop = [col for col in d2022.columns if '매출' in col or '지출' in col]\n",
        "d2022.drop(columns=columns_to_drop, inplace=True)\n",
        "\n",
        "columns_to_drop = [col for col in d2023.columns if '매출' in col or '지출' in col]\n",
        "d2023.drop(columns=columns_to_drop, inplace=True)"
      ],
      "metadata": {
        "id": "MIOG5JXAhfju"
      },
      "execution_count": null,
      "outputs": []
    },
    {
      "cell_type": "code",
      "source": [
        "d2022['전체'] = (d2022['가전디지털'] + d2022['게임'] + d2022['금융']\n",
        "               + d2022['리빙'] + d2022['뷰티'] + d2022['연예']\n",
        "               + d2022['음료'] + d2022['음식'] + d2022['취미여가']\n",
        "               + d2022['캐릭터'] + d2022['콘텐츠'] + d2022['패션'])\n",
        "\n",
        "d2022 = d2022.drop(['가전디지털', '게임', '금융', '리빙', '뷰티', '연예', '음료', '음식', '취미여가', '캐릭터', '콘텐츠', '패션'], axis = 1)\n",
        "\n",
        "d2023['전체'] = (d2023['가전디지털'] + d2023['게임'] + d2023['금융']\n",
        "               + d2023['리빙'] + d2023['뷰티'] + d2023['연예']\n",
        "               + d2023['음료'] + d2023['음식'] + d2023['취미여가']\n",
        "               + d2023['캐릭터'] + d2023['콘텐츠'] + d2023['패션'])\n",
        "\n",
        "d2023 = d2023.drop(['가전디지털', '게임', '금융', '리빙', '뷰티', '연예', '음료', '음식', '취미여가', '캐릭터', '콘텐츠', '패션'], axis = 1)"
      ],
      "metadata": {
        "id": "DRyolNvthfl1"
      },
      "execution_count": null,
      "outputs": []
    },
    {
      "cell_type": "code",
      "source": [
        "corr_matrix = d2022.corr()\n",
        "correlation_with_all = corr_matrix['전체']\n",
        "\n",
        "plt.figure(figsize=(10, 8))\n",
        "sns.heatmap(corr_matrix, cmap='coolwarm', vmin=-1, vmax=1)\n",
        "plt.title('상관관계 히트맵 - \"전체\"')\n",
        "plt.show()"
      ],
      "metadata": {
        "id": "Ec2uUaLbhfoH"
      },
      "execution_count": null,
      "outputs": []
    },
    {
      "cell_type": "code",
      "source": [
        "corr_matrix = d2023.corr()\n",
        "correlation_with_all = corr_matrix['전체']\n",
        "\n",
        "plt.figure(figsize=(10, 8))\n",
        "sns.heatmap(corr_matrix, cmap='coolwarm', vmin=-1, vmax=1)\n",
        "plt.title('상관관계 히트맵 - \"전체\"')\n",
        "plt.show()"
      ],
      "metadata": {
        "id": "BJuqoRKAhfqO"
      },
      "execution_count": null,
      "outputs": []
    },
    {
      "cell_type": "code",
      "source": [
        "d2022_col = d2022[['행정동코드', '행정동_x', '평균생활인구수', '총직장인구수', '음식점업_점포수', '승객수', '총직장인구수_평균',\n",
        "                   'MJ_2030_평균', 'MJ_4050_평균', 'WJ_2030_평균', 'WJ_4050_평균', '평균생활인구수_평균',\n",
        "                   'M_2030_평균', 'M_4050_평균', 'W_2030_평균', 'W_4050_평균', '전체']]\n",
        "\n",
        "d2023_col = d2023[['행정동코드', '행정동_x', '평균생활인구수', '총직장인구수', '음식점업_점포수', '승객수', '총직장인구수_평균',\n",
        "                   'MJ_2030_평균', 'MJ_4050_평균', 'WJ_2030_평균', 'WJ_4050_평균', '평균생활인구수_평균',\n",
        "                   'M_2030_평균', 'M_4050_평균', 'W_2030_평균', 'W_4050_평균', '전체']]"
      ],
      "metadata": {
        "id": "1jTEgLnPhfsK"
      },
      "execution_count": null,
      "outputs": []
    },
    {
      "cell_type": "code",
      "source": [
        "norm = d2023_col.drop(['행정동코드', '행정동_x'], axis = 1)\n",
        "\n",
        "scaler = MinMaxScaler()\n",
        "norm_data = scaler.fit_transform(norm)\n",
        "\n",
        "norm_2023 = pd.DataFrame(norm_data, columns=norm.columns)\n",
        "final_2023 = pd.concat([d2023_col[['행정동코드', '행정동_x']], norm_2023], axis = 1)"
      ],
      "metadata": {
        "id": "Ya4hgMRPhfuR"
      },
      "execution_count": null,
      "outputs": []
    },
    {
      "cell_type": "code",
      "source": [
        "norm22 = d2022_col.drop(['행정동코드', '행정동_x'], axis = 1)\n",
        "\n",
        "scaler = MinMaxScaler()\n",
        "norm22_data = scaler.fit_transform(norm22)\n",
        "\n",
        "norm_2022 = pd.DataFrame(norm22_data, columns=norm22.columns)\n",
        "final_2022 = pd.concat([d2022_col[['행정동코드', '행정동_x']], norm_2022], axis = 1)"
      ],
      "metadata": {
        "id": "2wuviY9wh3RN"
      },
      "execution_count": null,
      "outputs": []
    },
    {
      "cell_type": "code",
      "source": [
        "# trainset23 = setup(data = final_2023)\n",
        "trainset22 = setup(data = final_2022)"
      ],
      "metadata": {
        "id": "HNWVF1lXh3TX"
      },
      "execution_count": null,
      "outputs": []
    },
    {
      "cell_type": "code",
      "source": [
        "kmeans = create_model('kmeans')"
      ],
      "metadata": {
        "id": "SI1iLpsUh3Vo"
      },
      "execution_count": null,
      "outputs": []
    },
    {
      "cell_type": "code",
      "source": [
        "evaluate_model(kmeans)"
      ],
      "metadata": {
        "id": "pR2MhyPoh3Xt"
      },
      "execution_count": null,
      "outputs": []
    },
    {
      "cell_type": "code",
      "source": [
        "kmean_results = assign_model(kmeans)\n",
        "kmean_results['Cluster'].value_counts()"
      ],
      "metadata": {
        "id": "9iQPJ22Gh3Zl"
      },
      "execution_count": null,
      "outputs": []
    },
    {
      "cell_type": "code",
      "source": [
        "kmean_results.to_csv('/content/drive/MyDrive/홍철있는 홍철팀/데이터 분석/클러스터링/kmeans22.csv', index = False)"
      ],
      "metadata": {
        "id": "Y8gICDlriAnO"
      },
      "execution_count": null,
      "outputs": []
    },
    {
      "cell_type": "code",
      "source": [
        "dat22= pd.read_csv('/content/drive/MyDrive/홍철있는 홍철팀/데이터 분석/클러스터링/kmeans22.csv')\n",
        "dat23=pd.read_csv('/content/drive/MyDrive/홍철있는 홍철팀/데이터 분석/클러스터링/kmeans23.csv')"
      ],
      "metadata": {
        "id": "LNUa9reqiAph"
      },
      "execution_count": null,
      "outputs": []
    },
    {
      "cell_type": "code",
      "source": [
        "cluster_labels = kmeans.labels_\n",
        "\n",
        "for cluster_num in range(kmeans.n_clusters):\n",
        "    cluster_data = dat22[cluster_labels == cluster_num]\n",
        "    print(f\"클러스터 {cluster_num}에 속한 데이터:\")\n",
        "    print(cluster_data)"
      ],
      "metadata": {
        "id": "SwySCMgUiArF"
      },
      "execution_count": null,
      "outputs": []
    },
    {
      "cell_type": "code",
      "source": [
        "for cluster_num in range(kmeans.n_clusters):\n",
        "    cluster_data = dat22[cluster_labels == cluster_num]\n",
        "    print(f\"\\n클러스터 {cluster_num} 특성 요약 통계량:\")\n",
        "    print(cluster_data.describe())"
      ],
      "metadata": {
        "id": "FIwftd6LiFuc"
      },
      "execution_count": null,
      "outputs": []
    },
    {
      "cell_type": "code",
      "source": [
        "cl22=dat22['Cluster']\n",
        "cl23=dat23['Cluster']\n",
        "cluster22=pd.concat([d2022_col,cl22],axis=1)\n",
        "cluster23=pd.concat([d2023_col,cl23],axis=1)"
      ],
      "metadata": {
        "id": "VLA6_84ZiFwo"
      },
      "execution_count": null,
      "outputs": []
    },
    {
      "cell_type": "code",
      "source": [
        "group=cluster22.groupby('Cluster').agg('mean','max')"
      ],
      "metadata": {
        "id": "ZyrCpwKdiFyp"
      },
      "execution_count": null,
      "outputs": []
    },
    {
      "cell_type": "markdown",
      "source": [
        "## 입지 추천"
      ],
      "metadata": {
        "id": "Hx4s0PFOivg8"
      }
    },
    {
      "cell_type": "code",
      "source": [
        "data = pd.read_csv('/content/drive/MyDrive/홍철있는 홍철팀/데이터 분석/추천/fin_2023_co.csv')"
      ],
      "metadata": {
        "id": "pUQIrVAEiv3G"
      },
      "execution_count": null,
      "outputs": []
    },
    {
      "cell_type": "code",
      "source": [
        "# 뷰티\n",
        "data = data.drop(['패션','가전디지털','게임', '금융', '리빙', '연예', '음료', '음식','취미여가','캐릭터','콘텐츠'], axis = 1)"
      ],
      "metadata": {
        "id": "ePNU369ziv5S"
      },
      "execution_count": null,
      "outputs": []
    },
    {
      "cell_type": "code",
      "source": [
        "rf_model = RandomForestRegressor(n_estimators=100, random_state=42)\n",
        "rf_model.fit(X_scaled, y)\n",
        "\n",
        "feature_importances = rf_model.feature_importances_\n",
        "top_30_features = X.columns[np.argsort(feature_importances)[::-1]][:30]"
      ],
      "metadata": {
        "id": "cGLKZYP-jACP"
      },
      "execution_count": null,
      "outputs": []
    },
    {
      "cell_type": "code",
      "source": [
        "top30 = data[top_30_features]\n",
        "\n",
        "scaler = StandardScaler()\n",
        "top30[top30.columns] = scaler.fit_transform(top30)\n",
        "top_scaled = scaler.fit_transform(top30)\n",
        "y = data['뷰티']"
      ],
      "metadata": {
        "id": "iuOcplr9jAEV"
      },
      "execution_count": null,
      "outputs": []
    },
    {
      "cell_type": "code",
      "source": [
        "def build_model(n_hidden = 1, n_neurons = 30, learning_rate = 3e-3, dropout_rate=0.0):\n",
        "  model = Sequential()\n",
        "  model.add(InputLayer(input_shape=(X_scaled.shape[1],)))\n",
        "  for layer in range(n_hidden):\n",
        "    model.add(Dense(n_neurons, activation = 'relu'))\n",
        "    if dropout_rate > 0.0:\n",
        "      model.add(Dropout(dropout_rate))\n",
        "  model.add(Dense(1))\n",
        "  optimizer = Adam(learning_rate = learning_rate)\n",
        "  model.compile(loss='mean_squared_error', metrics=['mae'], optimizer = optimizer)\n",
        "  return model\n",
        "\n",
        "keras_model = KerasRegressor(model = build_model, dropout_rate=0.0,\n",
        "                             learning_rate=0.001, n_hidden=0, n_neurons=1)\n",
        "\n",
        "keras_model.fit(top_scaled, y, epochs = 5,\n",
        "                validation_split = 0.1,\n",
        "                batch_size=16,\n",
        "                callbacks = [EarlyStopping(patience = 10)])"
      ],
      "metadata": {
        "id": "PJw8mFhkiv7l"
      },
      "execution_count": null,
      "outputs": []
    },
    {
      "cell_type": "code",
      "source": [
        "params = {\n",
        "    \"n_hidden\" : [0, 1, 2, 3, 4, 5],\n",
        "    \"n_neurons\" : np.arange(1, 100).tolist(),\n",
        "    \"learning_rate\" : [0.001, 0.01, 0.1, 0.5],\n",
        "    \"dropout_rate\": [0.1, 0.2, 0.3, 0.4, 0.5],\n",
        "    \"batch_size\": [16, 32, 64, 128]\n",
        "}\n",
        "\n",
        "early_stopping = EarlyStopping(monitor='val_loss', patience=10)\n",
        "kfold = StratifiedKFold(n_splits=5, shuffle=True, random_state=123)"
      ],
      "metadata": {
        "id": "FWZcBCUjiv9r"
      },
      "execution_count": null,
      "outputs": []
    },
    {
      "cell_type": "code",
      "source": [
        "random_search = RandomizedSearchCV(keras_model, params, n_iter = 10, cv = 4)\n",
        "random_search.fit(top_scaled, y)"
      ],
      "metadata": {
        "id": "P4RtnHXZiv_y"
      },
      "execution_count": null,
      "outputs": []
    },
    {
      "cell_type": "code",
      "source": [
        "print(random_search.best_score_)\n",
        "print(random_search.best_params_)"
      ],
      "metadata": {
        "id": "I4WG2dkAi3ga"
      },
      "execution_count": null,
      "outputs": []
    },
    {
      "cell_type": "code",
      "source": [
        "def build_model(n_hidden = 4, n_neurons = 40, learning_rate = 0.001, dropout_rate=0.4):\n",
        "  model = Sequential()\n",
        "  model.add(InputLayer(input_shape=(top_scaled.shape[1],)))\n",
        "  for layer in range(n_hidden):\n",
        "    model.add(Dense(n_neurons, activation = 'relu'))\n",
        "    if dropout_rate > 0.0:\n",
        "      model.add(Dropout(dropout_rate))\n",
        "  model.add(Dense(1))\n",
        "  optimizer = Adam(learning_rate = learning_rate)\n",
        "  model.compile(loss='mean_squared_error', metrics=['mae'], optimizer = optimizer)\n",
        "  return model\n",
        "\n",
        "keras_model = KerasRegressor(model = build_model, dropout_rate=0.4,\n",
        "                             learning_rate=0.001, n_hidden=4, n_neurons=40)\n",
        "\n",
        "keras_model.fit(top_scaled, y, epochs =100,\n",
        "                validation_split = 0.1,\n",
        "                batch_size=64,\n",
        "                callbacks = [EarlyStopping(patience = 10)])"
      ],
      "metadata": {
        "id": "QSN9fO0pi3ih"
      },
      "execution_count": null,
      "outputs": []
    },
    {
      "cell_type": "code",
      "source": [
        "perm = PermutationImportance(keras_model, random_state=1).fit(top_scaled,y)"
      ],
      "metadata": {
        "id": "DCjaPe0Xi3k9"
      },
      "execution_count": null,
      "outputs": []
    },
    {
      "cell_type": "code",
      "source": [
        "pd.options.display.float_format = '{:.5f}'.format\n",
        "pd.set_option('display.max_rows',None)\n",
        "weights_df = explain_weights_df(perm, feature_names=top30.columns.tolist())"
      ],
      "metadata": {
        "id": "b1ejiLc3i3m7"
      },
      "execution_count": null,
      "outputs": []
    },
    {
      "cell_type": "code",
      "source": [
        "new_df = pd.DataFrame()\n",
        "\n",
        "for index, row in weights_df.iterrows():\n",
        "  feature = row['feature']\n",
        "  weight = row['weight']\n",
        "  new_df[feature] = top30[feature] * weight\n",
        "\n",
        "df = data[['행정동코드', '행정동', '뷰티']]\n",
        "new_df2 = new_df.sum(axis = 1)\n",
        "result = pd.concat([df, new_df2], axis = 1)\n",
        "result.sort_values(by = 0, ascending = False)"
      ],
      "metadata": {
        "id": "CBxN1AZ-i3ox"
      },
      "execution_count": null,
      "outputs": []
    },
    {
      "cell_type": "code",
      "source": [
        "weight_dong_array = np.dot(top_scaled,(np.array(weights_df['weight']))).reshape(424, 1)\n",
        "dong_lst = [item for sublist in weight_dong_array for item in sublist]\n",
        "dong_weight = pd.DataFrame(dong_lst)\n",
        "\n",
        "final = pd.concat([data[['행정동코드', '행정동']], dong_weight], axis = 1)\n",
        "final.sort_values(by = 0, ascending = False)"
      ],
      "metadata": {
        "id": "36qXjrddi3ql"
      },
      "execution_count": null,
      "outputs": []
    }
  ]
}